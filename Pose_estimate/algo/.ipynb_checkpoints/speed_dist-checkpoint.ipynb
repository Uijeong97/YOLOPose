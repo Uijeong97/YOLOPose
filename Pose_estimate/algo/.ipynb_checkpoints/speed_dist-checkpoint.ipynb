{
 "cells": [
  {
   "cell_type": "code",
   "execution_count": null,
   "metadata": {},
   "outputs": [],
   "source": [
    "# 이상치 dict 읽는 코드\n",
    "\n",
    "def check_speed(df):\n",
    "    # 이상치 vs df 분포 체크\n",
    "    # if slow : feedback_speed(slow)\n",
    "    # elif fast : feedback_speed(fast)\n",
    "    \n",
    "def feedback_speed(speed):\n",
    "    # if speed is slow:\n",
    "    #     print(\"\")\n",
    "    # else print(\"\")"
   ]
  }
 ],
 "metadata": {
  "kernelspec": {
   "display_name": "Python 3",
   "language": "python",
   "name": "python3"
  },
  "language_info": {
   "codemirror_mode": {
    "name": "ipython",
    "version": 3
   },
   "file_extension": ".py",
   "mimetype": "text/x-python",
   "name": "python",
   "nbconvert_exporter": "python",
   "pygments_lexer": "ipython3",
   "version": "3.6.6"
  }
 },
 "nbformat": 4,
 "nbformat_minor": 2
}
