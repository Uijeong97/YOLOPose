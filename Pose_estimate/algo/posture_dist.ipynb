{
 "cells": [
  {
   "cell_type": "code",
   "execution_count": null,
   "metadata": {},
   "outputs": [],
   "source": [
    "def check_waist(people_pose):\n",
    "    Neck = people_pose[1]\n",
    "    RHeap,LHeap = people_pose[8],people_pose[11]\n",
    "    MHeap = ((RHeap[0]+LHeap[0])/2, (RHeap[1]+LHeap[1])/2)\n",
    "    \n",
    "    if MHeap[0]!=Neck[0]:\n",
    "        return False\n",
    "    else return True\n",
    "        \n",
    "def check_knee(people_pose):\n",
    "    RKnee,RAnkle=people_pose[9],people_pose[10]\n",
    "    LKnee,LAnkle=people_pose[12],people_pose[13]\n",
    "    \n",
    "    # compare x point\n",
    "    ChKnee = RKnee if RKnee[0]<LKnee[0] else LKnee\n",
    "    ChAnkle = RAnkle if RAnkle[0]<LAnkle[0] else LAnkle\n",
    "    \n",
    "    if ChKnee[0] < ChAnkle[0]: \n",
    "        feedback_knee()\n",
    "    \n",
    "def feedback_waist():\n",
    "    print(\"허리와 엉덩이를 일직선으로 맞춰주세요\")\n",
    "    \n",
    "def feedback_knee():\n",
    "    print(\"다리를 수직으로 맞춰주세요\")"
   ]
  }
 ],
 "metadata": {
  "kernelspec": {
   "display_name": "Python 3",
   "language": "python",
   "name": "python3"
  },
  "language_info": {
   "codemirror_mode": {
    "name": "ipython",
    "version": 3
   },
   "file_extension": ".py",
   "mimetype": "text/x-python",
   "name": "python",
   "nbconvert_exporter": "python",
   "pygments_lexer": "ipython3",
   "version": "3.6.6"
  }
 },
 "nbformat": 4,
 "nbformat_minor": 2
}
